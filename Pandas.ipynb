{
 "cells": [
  {
   "cell_type": "code",
   "execution_count": null,
   "id": "33501e026de8650a",
   "metadata": {
    "ExecuteTime": {
     "end_time": "2025-04-19T15:05:36.870408Z",
     "start_time": "2025-04-19T15:05:36.822947Z"
    }
   },
   "outputs": [],
   "source": [
    "\n",
    "import pandas as pd\n",
    "df=pd.read_csv(\"prices.csv\",)\n",
    "df"
   ]
  },
  {
   "cell_type": "code",
   "execution_count": null,
   "id": "aaec44369af99dc3",
   "metadata": {
    "ExecuteTime": {
     "end_time": "2025-04-19T15:05:36.952323Z",
     "start_time": "2025-04-19T15:05:36.933692Z"
    }
   },
   "outputs": [],
   "source": [
    "df.info()"
   ]
  },
  {
   "cell_type": "code",
   "execution_count": null,
   "id": "63596deb3469228f",
   "metadata": {
    "ExecuteTime": {
     "end_time": "2025-04-19T15:05:37.028507Z",
     "start_time": "2025-04-19T15:05:37.014885Z"
    }
   },
   "outputs": [],
   "source": [
    "df.isnull().sum()"
   ]
  },
  {
   "cell_type": "code",
   "execution_count": null,
   "id": "c4dd131a681a852",
   "metadata": {
    "ExecuteTime": {
     "end_time": "2025-04-19T15:05:37.168852Z",
     "start_time": "2025-04-19T15:05:37.161930Z"
    }
   },
   "outputs": [],
   "source": [
    "df.dropna(inplace=True)"
   ]
  },
  {
   "cell_type": "code",
   "execution_count": null,
   "id": "1dc3db45430eee41",
   "metadata": {
    "ExecuteTime": {
     "end_time": "2025-04-19T15:05:37.265577Z",
     "start_time": "2025-04-19T15:05:37.252023Z"
    }
   },
   "outputs": [],
   "source": [
    "df.isnull().sum()"
   ]
  },
  {
   "cell_type": "code",
   "execution_count": null,
   "id": "4672f55b4932b8ad",
   "metadata": {
    "ExecuteTime": {
     "end_time": "2025-04-19T15:06:15.540195Z",
     "start_time": "2025-04-19T15:06:15.527637Z"
    }
   },
   "outputs": [],
   "source": [
    "df[\"New Price ($)\"]=df[\"New Price ($)\"].str.replace(\",\",\"\").astype(float)"
   ]
  },
  {
   "cell_type": "code",
   "execution_count": null,
   "id": "302bc70db78ea6ed",
   "metadata": {
    "ExecuteTime": {
     "end_time": "2025-04-19T15:06:25.015520Z",
     "start_time": "2025-04-19T15:06:25.004024Z"
    }
   },
   "outputs": [],
   "source": [
    "df[\"Used Price ($)\"]=df[\"Used Price ($)\"].str.replace(\",\",\"\").astype(float)"
   ]
  },
  {
   "cell_type": "code",
   "execution_count": null,
   "id": "f55dac4e2f5cf8ad",
   "metadata": {
    "ExecuteTime": {
     "end_time": "2025-04-19T15:06:57.701757Z",
     "start_time": "2025-04-19T15:06:57.564548Z"
    }
   },
   "outputs": [],
   "source": [
    "df[\"Units Sold\"]=df[\"Units Sold\"].str.replace(\",\",\"\").astype(float)"
   ]
  },
  {
   "cell_type": "code",
   "execution_count": null,
   "id": "27442896d9522a6f",
   "metadata": {
    "ExecuteTime": {
     "end_time": "2025-04-19T15:06:59.931631Z",
     "start_time": "2025-04-19T15:06:59.842932Z"
    }
   },
   "outputs": [],
   "source": [
    "df[\"Inflation Rate (%)\"]=df[\"Inflation Rate (%)\"].str.rstrip(\"%\").astype(float)/100"
   ]
  },
  {
   "cell_type": "code",
   "execution_count": null,
   "id": "ba17fb526d0387c7",
   "metadata": {},
   "outputs": [],
   "source": [
    "df[\"Interest Rate (%)\"]=df[\"Interest Rate (%)\"].str.rstrip(\"%\").astype(float)/100"
   ]
  },
  {
   "cell_type": "code",
   "execution_count": null,
   "id": "1708dff616674e10",
   "metadata": {},
   "outputs": [],
   "source": [
    "df[\"Month/Year\"]=pd.to_datetime(df[\"Month/Year\"],format=\"%y-%b\")\n",
    "df.to_csv(\"data.csv\")\n",
    "df.describe()"
   ]
  },
  {
   "cell_type": "code",
   "execution_count": null,
   "id": "b242d209639f2fcb",
   "metadata": {},
   "outputs": [],
   "source": [
    "import matplotlib.pyplot as plt\n",
    "plt.figure(figsize=(10,10))\n",
    "plt.plot(df[\"Month/Year\"],df[\"New Price ($)\"],label=\"New Price\")\n",
    "plt.plot(df[\"Month/Year\"],df[\"Used Price ($)\"],label=\"Used Price\")\n",
    "plt.title(\"Price Trends Over Time\")\n",
    "plt.xlabel(\"Date\")\n",
    "plt.ylabel(\"Price($)\")\n",
    "plt.legend()\n",
    "plt.show()"
   ]
  },
  {
   "cell_type": "markdown",
   "id": "8ebc23b6a42a72ed",
   "metadata": {},
   "source": []
  },
  {
   "cell_type": "code",
   "execution_count": null,
   "id": "10d3ad5d7fe7cb39",
   "metadata": {},
   "outputs": [],
   "source": [
    "df.corr()"
   ]
  },
  {
   "cell_type": "code",
   "execution_count": null,
   "id": "49fad3df1c128696",
   "metadata": {},
   "outputs": [],
   "source": [
    "import seaborn as sns\n",
    "plt.figure(figsize=(10,10))\n",
    "sns.heatmap(df.corr(),annot=True,cmap=\"coolwarm\")\n",
    "plt.title(\"Correlation Matrix\")\n",
    "plt.show()"
   ]
  },
  {
   "cell_type": "code",
   "execution_count": null,
   "id": "e15f6d8b71d10fae",
   "metadata": {},
   "outputs": [],
   "source": [
    "from statsmodels.tsa.arima.model import ARIMA\n",
    "model=ARIMA(df[\"New Price ($)\"],order=(5,1,0))\n",
    "model_fit=model.fit()\n",
    "prediction=model_fit.forecast(steps=24)\n",
    "print(\"prediction of New Price ($):\\n\",prediction)\n"
   ]
  },
  {
   "cell_type": "code",
   "execution_count": null,
   "id": "c4acd142f7e7a013",
   "metadata": {
    "ExecuteTime": {
     "end_time": "2025-04-19T15:07:36.050531Z",
     "start_time": "2025-04-19T15:07:35.791302Z"
    }
   },
   "outputs": [],
   "source": [
    "from sklearn.linear_model import LinearRegression\n",
    "X=df[[\"New Price ($)\",\"Used Price ($)\"]]\n",
    "Y=df[\"Units Sold\"]\n",
    "model=LinearRegression()\n",
    "model.fit(X,Y)\n",
    "prediction=model.predict(X)\n",
    "print(\"Prediction for Units Sold:\\n\",prediction)"
   ]
  },
  {
   "cell_type": "code",
   "execution_count": null,
   "id": "ecec836ba42dd01d",
   "metadata": {
    "ExecuteTime": {
     "end_time": "2025-04-19T15:08:47.634340Z",
     "start_time": "2025-04-19T15:08:47.456258Z"
    }
   },
   "outputs": [],
   "source": [
    "import matplotlib.pyplot as plt\n",
    "df[\"Predicted Units Sold\"]=prediction\n",
    "plt.plot(df.index,df[\"Units Sold\"],label=\"Actual Units Sold\",marker=\"o\")\n",
    "plt.plot(df.index,df[\"Predicted Units Sold\"],label=\"Predicted Units Sold\",linestyle=\"--\",marker=\"o\")\n",
    "plt.xlabel(\"Time Steps\")\n",
    "plt.ylabel(\"Units Sold\")\n",
    "plt.title(\"Actual vs Predicted Units Sold Over Time\")\n",
    "plt.legend()\n",
    "plt.show()"
   ]
  }
 ],
 "metadata": {
  "kernelspec": {
   "display_name": "Python 3",
   "language": "python",
   "name": "python3"
  },
  "language_info": {
   "codemirror_mode": {
    "name": "ipython",
    "version": 3
   },
   "file_extension": ".py",
   "mimetype": "text/x-python",
   "name": "python",
   "nbconvert_exporter": "python",
   "pygments_lexer": "ipython3",
   "version": "3.13.3"
  }
 },
 "nbformat": 4,
 "nbformat_minor": 5
}
